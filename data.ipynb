{
 "cells": [
  {
   "cell_type": "code",
   "execution_count": 24,
   "metadata": {},
   "outputs": [],
   "source": [
    "## pip install spotipy"
   ]
  },
  {
   "cell_type": "code",
   "execution_count": 25,
   "metadata": {},
   "outputs": [],
   "source": [
    "import config ## importing my config file (config.py) with API keys\n",
    "import spotipy ## https://spotipy.readthedocs.io/en/2.24.0/\n",
    "from spotipy import Spotify\n",
    "from spotipy.oauth2 import SpotifyClientCredentials\n",
    "\n"
   ]
  },
  {
   "cell_type": "code",
   "execution_count": 26,
   "metadata": {},
   "outputs": [],
   "source": [
    "client_id = config.client_id\n",
    "client_secret = config.client_secret"
   ]
  },
  {
   "cell_type": "code",
   "execution_count": 27,
   "metadata": {},
   "outputs": [],
   "source": [
    "# Authentication\n",
    "auth_manager = SpotifyClientCredentials(client_id=client_id, client_secret=client_secret)\n",
    "spotify = spotipy.Spotify(auth_manager=auth_manager)\n"
   ]
  },
  {
   "cell_type": "code",
   "execution_count": 28,
   "metadata": {},
   "outputs": [],
   "source": [
    "fleetwood_albums = [\n",
    "    {\"name\": \"Peter Green's Fleetwood Mac (Deluxe)\", \"year\": 1968, \"id\": \"4QtzKoXiBdSUTJbukiEiPr\"},\n",
    "    {\"name\": \"Mr. Wonderful (Deluxe)\", \"year\": 1968, \"id\": \"3RT7bmMbIAuDHB9L1HwTzh\"},\n",
    "    {\"name\": \"Then Play On\", \"year\": 1969, \"id\": \"4Ji83LjzvEzFoCpN85m5lW\"},\n",
    "    {\"name\" : \"Kiln House\", \"year\": 1970, \"id\": \"2fNVSqSja0AqhKd5dq2xKy\"},\n",
    "    {\"name\" : \"Future Games\", \"year\": 1971, \"id\": \"0mrtsupVI772qJdmW17yP0\"},\n",
    "    {\"name\" : \"Bare Trees\", \"year\": 1972, \"id\": \"4yjFzAgg5VcidLwoZiQmbi\"},\n",
    "    {\"name\" : \"Penguin\", \"year\": 1973, \"id\": \"7f2wzh1hY4adWEoTKIEX6W\"},\n",
    "    {\"name\" : \"Mystery to Me\", \"year\": 1973, \"id\": \"7MprjyJe4SD8Sq9Nn7oYD5\"}, \n",
    "    {\"name\" : \"Heroes Are Hard to Find\", \"year\": 1974, \"id\": \"2ISNpwmh12Nf2420YUQcNE\"}, \n",
    "    {\"name\" : \"Fleetwood Mac\", \"year\": 1975, \"id\": \"5VIQ3VaAoRKOEpJ0fewdvo\"},\n",
    "    {\"name\" : \"Rumours\", \"year\": 1977, \"id\": \"1bt6q2SruMsBtcerNVtpZB\"},\n",
    "    {\"name\" : \"Tusk (Deluxe Edition)\", \"year\": 1979, \"id\": \"1d075yQcykHjerQ2BN0ABn\"},\n",
    "    {\"name\" : \"Mirage (Deluxe Edition)\", \"year\": 1982, \"id\": \"1dZNgJ3Gh3wp6ohzk29JUG\"},\n",
    "    {\"name\" : \"Tango In the Night\", \"year\": 1987, \"id\": \"4AsXQ17Arq1cUVoa9dKJ3F\"},\n",
    "    {\"name\" : \"Behind the Mask\", \"year\": 1990, \"id\": \"3aXrkfZW8FzUDOU0RwQ401\"},\n",
    "    {\"name\" : \"Time\", \"year\": 1995, \"id\": \"2efkPPuJQ7JrTloWk4lhiV\"},\n",
    "    {\"name\" : \"Say You Will\", \"year\": 2003, \"id\": \"6dMdadS6Ng71pD9As93ufx\"},\n",
    "]"
   ]
  },
  {
   "cell_type": "code",
   "execution_count": 38,
   "metadata": {},
   "outputs": [],
   "source": [
    "# fleetwood_albums[0]['songs'] = "
   ]
  },
  {
   "cell_type": "code",
   "execution_count": 30,
   "metadata": {},
   "outputs": [],
   "source": [
    "\n",
    "# Fleetwood Mac details\n",
    "fleetwood_mac = '08GQAI4eElDnROBrJRGE0X' # Artist ID\n",
    "then_play_on = '4Ji83LjzvEzFoCpN85m5lW' # Album ID\n",
    "\n",
    "# Get Fleetwood Mac's albums\n",
    "results = spotify.artist_albums(fleetwood_mac, album_type='album')\n",
    "albums = results['items']"
   ]
  },
  {
   "cell_type": "code",
   "execution_count": 31,
   "metadata": {},
   "outputs": [
    {
     "name": "stdout",
     "output_type": "stream",
     "text": [
      "Track: Coming Your Way - 2013 Remaster\n",
      "Track: Closing My Eyes - 2013 Remaster\n",
      "Track: Fighting For Madge - 2013 Remaster\n",
      "Track: When You Say - 2013 Remaster\n",
      "Track: Show Biz Blues - 2013 Remaster\n",
      "Track: Underway - 2013 Remaster\n",
      "Track: One Sunny Day - 2013 Remaster\n",
      "Track: Although the Sun Is Shining - 2013 Remaster\n",
      "Track: Rattlesnake Shake - 2013 Remaster\n",
      "Track: Without You - 2013 Remaster\n",
      "Track: Searching for Madge - 2013 Remaster\n",
      "Track: My Dream - 2013 Remaster\n",
      "Track: Like Crying - 2013 Remaster\n",
      "Track: Before The Beginning - 2013 Remaster\n",
      "Track: Oh Well (Pt. 1) - 2013 Remaster\n",
      "Track: Oh Well (Pt. 2) - 2013 Remaster\n",
      "Track: The Green Manalishi (With the Two Prong Crown) - 2013 Remaster\n",
      "Track: World In Harmony - 2013 Remaster\n"
     ]
    }
   ],
   "source": [
    "# Get the album tracks\n",
    "album_id = '4Ji83LjzvEzFoCpN85m5lW'\n",
    "results = spotify.album_tracks(album_id)\n",
    "tracks = results['items']\n",
    "\n",
    "# Get audio features for each track\n",
    "for track in tracks:\n",
    "    audio_features = spotify.audio_features(track['id'])[0]\n",
    "\n",
    "    print(f\"Track: {track['name']}\")"
   ]
  },
  {
   "cell_type": "code",
   "execution_count": 68,
   "metadata": {},
   "outputs": [
    {
     "data": {
      "text/plain": [
       "'4QtzKoXiBdSUTJbukiEiPr'"
      ]
     },
     "execution_count": 68,
     "metadata": {},
     "output_type": "execute_result"
    }
   ],
   "source": [
    "fleetwood_albums[0]['id']"
   ]
  },
  {
   "cell_type": "code",
   "execution_count": 33,
   "metadata": {},
   "outputs": [],
   "source": [
    "## results"
   ]
  },
  {
   "cell_type": "code",
   "execution_count": 46,
   "metadata": {},
   "outputs": [],
   "source": [
    "def get_spotify_attributes(track_ids):\n",
    "    \"\"\"Retrieves audio features for a list of tracks using spotipy.\"\"\"\n",
    "    sp = Spotify(auth_manager=SpotifyClientCredentials(client_id, client_secret))\n",
    "    return sp.audio_features(track_ids)"
   ]
  },
  {
   "cell_type": "code",
   "execution_count": 48,
   "metadata": {},
   "outputs": [],
   "source": [
    "def get_album_info(album_id):\n",
    "    \"\"\"Retrieves album information, including songs using spotipy.\"\"\"\n",
    "    sp = Spotify(auth_manager=SpotifyClientCredentials(client_id, client_secret))\n",
    "    return sp.album(album_id)"
   ]
  },
  {
   "cell_type": "code",
   "execution_count": 49,
   "metadata": {},
   "outputs": [],
   "source": [
    "albums = {}\n",
    "albums[\"4QtzKoXiBdSUTJbukiEiPr\"] = get_album_info(\"4QtzKoXiBdSUTJbukiEiPr\")"
   ]
  },
  {
   "cell_type": "code",
   "execution_count": 69,
   "metadata": {},
   "outputs": [
    {
     "data": {
      "text/plain": [
       "[{'danceability': 0.429,\n",
       "  'energy': 0.657,\n",
       "  'key': 9,\n",
       "  'loudness': -8.6,\n",
       "  'mode': 1,\n",
       "  'speechiness': 0.037,\n",
       "  'acousticness': 0.123,\n",
       "  'instrumentalness': 2.86e-06,\n",
       "  'liveness': 0.387,\n",
       "  'valence': 0.848,\n",
       "  'tempo': 118.333,\n",
       "  'type': 'audio_features',\n",
       "  'id': '6MDxjEmwVBrZM1UH9FpYP4',\n",
       "  'uri': 'spotify:track:6MDxjEmwVBrZM1UH9FpYP4',\n",
       "  'track_href': 'https://api.spotify.com/v1/tracks/6MDxjEmwVBrZM1UH9FpYP4',\n",
       "  'analysis_url': 'https://api.spotify.com/v1/audio-analysis/6MDxjEmwVBrZM1UH9FpYP4',\n",
       "  'duration_ms': 148600,\n",
       "  'time_signature': 4}]"
      ]
     },
     "execution_count": 69,
     "metadata": {},
     "output_type": "execute_result"
    }
   ],
   "source": [
    "# Get an album id from MY dictionary:\n",
    "album_id = fleetwood_albums[0]['id']\n",
    "\n",
    "# Get the info for an album within my dictionary -- song names, etc:\n",
    "album_info = get_album_info(album_id)\n",
    "\n",
    "# Count of songs within an album:\n",
    "song_count = albums[album_id]['total_tracks']\n",
    "\n",
    "# Get each song id:\n",
    "song_id = albums[album_id]['tracks']['items'][song_count - 1]['id']\n",
    "\n",
    "# Get song attributes:\n",
    "get_spotify_attributes([song_id])"
   ]
  },
  {
   "cell_type": "code",
   "execution_count": 47,
   "metadata": {},
   "outputs": [],
   "source": [
    "songs = {}\n",
    "songs['3SU05kY7F4VuSCzvZ0CtE7'] = get_spotify_attributes(['3SU05kY7F4VuSCzvZ0CtE7'])"
   ]
  },
  {
   "cell_type": "code",
   "execution_count": 44,
   "metadata": {},
   "outputs": [
    {
     "data": {
      "text/plain": [
       "{'3SU05kY7F4VuSCzvZ0CtE7': [{'danceability': 0.443,\n",
       "   'energy': 0.236,\n",
       "   'key': 10,\n",
       "   'loudness': -16.441,\n",
       "   'mode': 0,\n",
       "   'speechiness': 0.0514,\n",
       "   'acousticness': 0.881,\n",
       "   'instrumentalness': 0.497,\n",
       "   'liveness': 0.0783,\n",
       "   'valence': 0.237,\n",
       "   'tempo': 168.39,\n",
       "   'type': 'audio_features',\n",
       "   'id': '3SU05kY7F4VuSCzvZ0CtE7',\n",
       "   'uri': 'spotify:track:3SU05kY7F4VuSCzvZ0CtE7',\n",
       "   'track_href': 'https://api.spotify.com/v1/tracks/3SU05kY7F4VuSCzvZ0CtE7',\n",
       "   'analysis_url': 'https://api.spotify.com/v1/audio-analysis/3SU05kY7F4VuSCzvZ0CtE7',\n",
       "   'duration_ms': 207639,\n",
       "   'time_signature': 4}]}"
      ]
     },
     "execution_count": 44,
     "metadata": {},
     "output_type": "execute_result"
    }
   ],
   "source": [
    "songs"
   ]
  },
  {
   "cell_type": "code",
   "execution_count": null,
   "metadata": {},
   "outputs": [],
   "source": []
  },
  {
   "cell_type": "code",
   "execution_count": null,
   "metadata": {},
   "outputs": [],
   "source": []
  }
 ],
 "metadata": {
  "kernelspec": {
   "display_name": "Python 3",
   "language": "python",
   "name": "python3"
  },
  "language_info": {
   "codemirror_mode": {
    "name": "ipython",
    "version": 3
   },
   "file_extension": ".py",
   "mimetype": "text/x-python",
   "name": "python",
   "nbconvert_exporter": "python",
   "pygments_lexer": "ipython3",
   "version": "3.12.5"
  }
 },
 "nbformat": 4,
 "nbformat_minor": 2
}
