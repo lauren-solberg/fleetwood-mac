{
 "cells": [
  {
   "cell_type": "code",
   "execution_count": 24,
   "metadata": {},
   "outputs": [],
   "source": [
    "## pip install spotipy"
   ]
  },
  {
   "cell_type": "code",
   "execution_count": 25,
   "metadata": {},
   "outputs": [],
   "source": [
    "# Imports:\n",
    "import config ## importing my config file (config.py) with API keys\n",
    "import spotipy ## https://spotipy.readthedocs.io/en/2.24.0/\n",
    "from spotipy import Spotify\n",
    "from spotipy.oauth2 import SpotifyClientCredentials\n",
    "\n"
   ]
  },
  {
   "cell_type": "code",
   "execution_count": 27,
   "metadata": {},
   "outputs": [],
   "source": [
    "# Spotipy API Authentication:\n",
    "client_id = config.client_id\n",
    "client_secret = config.client_secret\n",
    "auth_manager = SpotifyClientCredentials(client_id=client_id, client_secret=client_secret)\n",
    "spotify = spotipy.Spotify(auth_manager=auth_manager)\n"
   ]
  },
  {
   "cell_type": "code",
   "execution_count": 83,
   "metadata": {},
   "outputs": [],
   "source": [
    "# Dictionary of albums included in my study:\n",
    "fleetwood_albums = [\n",
    "    {\"name\": \"Peter Green's Fleetwood Mac (Deluxe)\", \"year\": 1968, \"id\": \"4QtzKoXiBdSUTJbukiEiPr\"},\n",
    "    {\"name\": \"Mr. Wonderful (Deluxe)\", \"year\": 1968, \"id\": \"3RT7bmMbIAuDHB9L1HwTzh\"},\n",
    "    {\"name\": \"Then Play On\", \"year\": 1969, \"id\": \"4Ji83LjzvEzFoCpN85m5lW\"},\n",
    "    {\"name\" : \"Kiln House\", \"year\": 1970, \"id\": \"2fNVSqSja0AqhKd5dq2xKy\"},\n",
    "    {\"name\" : \"Future Games\", \"year\": 1971, \"id\": \"0mrtsupVI772qJdmW17yP0\"},\n",
    "    {\"name\" : \"Bare Trees\", \"year\": 1972, \"id\": \"4yjFzAgg5VcidLwoZiQmbi\"},\n",
    "    {\"name\" : \"Penguin\", \"year\": 1973, \"id\": \"7f2wzh1hY4adWEoTKIEX6W\"},\n",
    "    {\"name\" : \"Mystery to Me\", \"year\": 1973, \"id\": \"7MprjyJe4SD8Sq9Nn7oYD5\"}, \n",
    "    {\"name\" : \"Heroes Are Hard to Find\", \"year\": 1974, \"id\": \"2ISNpwmh12Nf2420YUQcNE\"}, \n",
    "    {\"name\" : \"Fleetwood Mac\", \"year\": 1975, \"id\": \"5VIQ3VaAoRKOEpJ0fewdvo\"},\n",
    "    {\"name\" : \"Rumours\", \"year\": 1977, \"id\": \"1bt6q2SruMsBtcerNVtpZB\"},\n",
    "    {\"name\" : \"Tusk (Deluxe Edition)\", \"year\": 1979, \"id\": \"1d075yQcykHjerQ2BN0ABn\"},\n",
    "    {\"name\" : \"Mirage (Deluxe Edition)\", \"year\": 1982, \"id\": \"1dZNgJ3Gh3wp6ohzk29JUG\"},\n",
    "    {\"name\" : \"Tango In the Night\", \"year\": 1987, \"id\": \"4AsXQ17Arq1cUVoa9dKJ3F\"},\n",
    "    {\"name\" : \"Behind the Mask\", \"year\": 1990, \"id\": \"3aXrkfZW8FzUDOU0RwQ401\"},\n",
    "    {\"name\" : \"Time\", \"year\": 1995, \"id\": \"2efkPPuJQ7JrTloWk4lhiV\"},\n",
    "    {\"name\" : \"Say You Will\", \"year\": 2003, \"id\": \"6dMdadS6Ng71pD9As93ufx\"},\n",
    "]\n",
    "\n",
    "# Get a list of songs and album info for a particular album:\n",
    "def get_tracks_and_info(album_id):\n",
    "    \"\"\"Retrieves album information, including songs using spotipy.\"\"\"\n",
    "    sp = Spotify(auth_manager=SpotifyClientCredentials(client_id, client_secret))\n",
    "    return sp.album(album_id)\n",
    "\n",
    "# Get a list of attributes for each song:\n",
    "def get_track_attributes(track_ids):\n",
    "    \"\"\"Retrieves audio features for a list of tracks using spotipy.\"\"\"\n",
    "    sp = Spotify(auth_manager=SpotifyClientCredentials(client_id, client_secret))\n",
    "    return sp.audio_features(track_ids)"
   ]
  },
  {
   "cell_type": "code",
   "execution_count": 84,
   "metadata": {},
   "outputs": [
    {
     "ename": "TypeError",
     "evalue": "list indices must be integers or slices, not str",
     "output_type": "error",
     "traceback": [
      "\u001b[0;31m---------------------------------------------------------------------------\u001b[0m",
      "\u001b[0;31mTypeError\u001b[0m                                 Traceback (most recent call last)",
      "Cell \u001b[0;32mIn[84], line 10\u001b[0m\n\u001b[1;32m      7\u001b[0m fleetwood_albums[\u001b[38;5;241m0\u001b[39m][\u001b[38;5;124m'\u001b[39m\u001b[38;5;124malbum_info\u001b[39m\u001b[38;5;124m'\u001b[39m] \u001b[38;5;241m=\u001b[39m album_info\n\u001b[1;32m      9\u001b[0m \u001b[38;5;66;03m# Count of songs within an album:\u001b[39;00m\n\u001b[0;32m---> 10\u001b[0m song_count \u001b[38;5;241m=\u001b[39m \u001b[43mfleetwood_albums\u001b[49m\u001b[43m[\u001b[49m\u001b[43malbum_id\u001b[49m\u001b[43m]\u001b[49m[\u001b[38;5;124m'\u001b[39m\u001b[38;5;124mtotal_tracks\u001b[39m\u001b[38;5;124m'\u001b[39m]\n\u001b[1;32m     12\u001b[0m \u001b[38;5;66;03m# Get each song id and name:\u001b[39;00m\n\u001b[1;32m     13\u001b[0m song_id \u001b[38;5;241m=\u001b[39m fleetwood_albums[album_id][\u001b[38;5;124m'\u001b[39m\u001b[38;5;124mtracks\u001b[39m\u001b[38;5;124m'\u001b[39m][\u001b[38;5;124m'\u001b[39m\u001b[38;5;124mitems\u001b[39m\u001b[38;5;124m'\u001b[39m][song_count \u001b[38;5;241m-\u001b[39m \u001b[38;5;241m1\u001b[39m][\u001b[38;5;124m'\u001b[39m\u001b[38;5;124mid\u001b[39m\u001b[38;5;124m'\u001b[39m]\n",
      "\u001b[0;31mTypeError\u001b[0m: list indices must be integers or slices, not str"
     ]
    }
   ],
   "source": [
    "# Get an album id from MY dictionary:\n",
    "album_id = fleetwood_albums[0]['id']\n",
    "\n",
    "# Get the info for an album within my dictionary -- song names, etc:\n",
    "album_info = get_tracks_and_info(album_id)\n",
    "# Add the album info & songs to the dictionary\n",
    "fleetwood_albums[0]['album_info'] = album_info\n",
    "\n",
    "# Count of songs within an album:\n",
    "song_count = fleetwood_albums[album_id]['total_tracks']\n",
    "\n",
    "# Get each song id and name:\n",
    "song_id = fleetwood_albums[album_id]['tracks']['items'][song_count - 1]['id']\n",
    "song_name = fleetwood_albums[0]['album_info']['tracks']['items'][0]['name']\n",
    "\n",
    "# Get song attributes:\n",
    "song_attributes = get_track_attributes([song_id])\n",
    "\n",
    "# Add the song attributes to the dictionary\n",
    "fleetwood_albums[0]['album_info']['tracks']['items'][0]['track_attributes'] = song_attributes"
   ]
  },
  {
   "cell_type": "code",
   "execution_count": null,
   "metadata": {},
   "outputs": [],
   "source": []
  }
 ],
 "metadata": {
  "kernelspec": {
   "display_name": "Python 3",
   "language": "python",
   "name": "python3"
  },
  "language_info": {
   "codemirror_mode": {
    "name": "ipython",
    "version": 3
   },
   "file_extension": ".py",
   "mimetype": "text/x-python",
   "name": "python",
   "nbconvert_exporter": "python",
   "pygments_lexer": "ipython3",
   "version": "3.12.5"
  }
 },
 "nbformat": 4,
 "nbformat_minor": 2
}
